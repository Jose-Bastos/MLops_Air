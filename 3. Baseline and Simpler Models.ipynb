{
 "cells": [
  {
   "cell_type": "markdown",
   "source": [
    "# 3. Baseline and Simpler Models"
   ],
   "metadata": {
    "collapsed": false
   }
  },
  {
   "cell_type": "markdown",
   "source": [
    "The goal of this notebook is to build a baseline model and a simpler model to compare with the final model. The baseline model will be a naive model thats predict's the present time step variables as being equal to the previous time step variables. The simple models will be: a Linear Regression Model, a Random Forest Model, and a Gradient Boosting Model. Afterwards, in the next ntoebook, we will start to use more advanced Neural Network models to see if we can improve the performance of the simpler models.\n"
   ],
   "metadata": {
    "collapsed": false
   }
  },
  {
   "cell_type": "code",
   "execution_count": null,
   "outputs": [],
   "source": [
    "import pandas as pd\n",
    "import numpy as np\n",
    "import sklearn\n",
    "import matplotlib.pyplot as plt\n"
   ],
   "metadata": {
    "collapsed": false
   }
  }
 ],
 "metadata": {
  "kernelspec": {
   "display_name": "Python 3",
   "language": "python",
   "name": "python3"
  },
  "language_info": {
   "codemirror_mode": {
    "name": "ipython",
    "version": 2
   },
   "file_extension": ".py",
   "mimetype": "text/x-python",
   "name": "python",
   "nbconvert_exporter": "python",
   "pygments_lexer": "ipython2",
   "version": "2.7.6"
  }
 },
 "nbformat": 4,
 "nbformat_minor": 0
}
