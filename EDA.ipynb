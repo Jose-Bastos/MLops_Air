{
 "cells": [
  {
   "cell_type": "markdown",
   "source": [
    "# EDA - Exploratory Data Analysis"
   ],
   "metadata": {
    "collapsed": false
   }
  },
  {
   "cell_type": "code",
   "execution_count": 78,
   "outputs": [],
   "source": [
    "import pandas as pd\n",
    "import numpy as np\n",
    "import matplotlib.pyplot as plt\n",
    "import seaborn as sns\n",
    "from datetime import datetime"
   ],
   "metadata": {
    "collapsed": false
   }
  },
  {
   "cell_type": "markdown",
   "source": [
    "## Loading CSV with Pandas plus 1st look into the data"
   ],
   "metadata": {
    "collapsed": false
   }
  },
  {
   "cell_type": "code",
   "execution_count": 111,
   "outputs": [],
   "source": [
    "#use pandas to load and convert the CSV\n",
    "df = pd.read_csv(\"london-air-quality.csv\")\n"
   ],
   "metadata": {
    "collapsed": false
   }
  },
  {
   "cell_type": "code",
   "execution_count": 112,
   "outputs": [
    {
     "name": "stdout",
     "output_type": "stream",
     "text": [
      "           date  pm25  pm10   o3  no2  so2  co\n",
      "0      2023/1/3    48    13   28   18    1   3\n",
      "1      2023/1/4    36    18   27    9    1   1\n",
      "2      2023/1/5    37    16   23   16    1   3\n",
      "3      2023/1/6    30     8   25   19    1   3\n",
      "4      2023/1/7    13    13   30   12    1   3\n",
      "...         ...   ...   ...  ...  ...  ...  ..\n",
      "3273  2014/3/27    68    34   19   48    4   2\n",
      "3274  2014/3/28    86    54   15   45    4   3\n",
      "3275  2014/3/29   137    52   31   38    4   3\n",
      "3276  2014/3/30   113    34   27   49    4   3\n",
      "3277  2014/3/31    82    45   17   50    6   4\n",
      "\n",
      "[3278 rows x 7 columns]\n"
     ]
    }
   ],
   "source": [
    "#printing the 1st and last 5 lines of the dataframe\n",
    "print(df.head(-10))"
   ],
   "metadata": {
    "collapsed": false
   }
  },
  {
   "cell_type": "markdown",
   "source": [
    "We can start by noticing that there 7 columns: 1 for the data, and 6 for variables values. Furthermore, the dataframe seems to be sorted by data, but the final rows seem out of order,\n",
    "\n"
   ],
   "metadata": {
    "collapsed": false
   }
  },
  {
   "cell_type": "code",
   "execution_count": 113,
   "outputs": [
    {
     "name": "stdout",
     "output_type": "stream",
     "text": [
      "<class 'pandas.core.frame.DataFrame'>\n",
      "RangeIndex: 3288 entries, 0 to 3287\n",
      "Data columns (total 7 columns):\n",
      " #   Column  Non-Null Count  Dtype \n",
      "---  ------  --------------  ----- \n",
      " 0   date    3288 non-null   object\n",
      " 1    pm25   3288 non-null   object\n",
      " 2    pm10   3288 non-null   object\n",
      " 3    o3     3288 non-null   object\n",
      " 4    no2    3288 non-null   object\n",
      " 5    so2    3288 non-null   object\n",
      " 6    co     3288 non-null   object\n",
      "dtypes: object(7)\n",
      "memory usage: 179.9+ KB\n",
      "None\n"
     ]
    }
   ],
   "source": [
    "print(df.info())"
   ],
   "metadata": {
    "collapsed": false
   }
  },
  {
   "cell_type": "markdown",
   "source": [],
   "metadata": {
    "collapsed": false
   }
  },
  {
   "cell_type": "markdown",
   "source": [
    "We see that all columns are dtype string when they should be: datetime (for the date) and floats or integers for all other variables for us to be able to study and learn from them."
   ],
   "metadata": {
    "collapsed": false
   }
  },
  {
   "cell_type": "markdown",
   "source": [
    "## Dtype Convertion"
   ],
   "metadata": {
    "collapsed": false
   }
  },
  {
   "cell_type": "markdown",
   "source": [
    "Above, we saw that all columns are of the dtype object which means they are strings. Before we do anything else we need to convert them all to numbers we can read (floats or integers)."
   ],
   "metadata": {
    "collapsed": false
   }
  },
  {
   "cell_type": "code",
   "execution_count": 114,
   "outputs": [],
   "source": [
    "#1st convert data column to datetime object\n",
    "df[\"date\"] = pd.to_datetime(df[\"date\"], format = \"%Y/%m/%d\" )\n",
    "\n",
    "#2nd convert all other columns, that we know should be floats\n",
    "for col in df.columns[1:]:\n",
    "    #notice that column variable names come with a whitespace before the actual name, we will remove it\n",
    "    new_name = col.strip()\n",
    "    df.rename(columns= {f\"{col}\": f\"{new_name}\"}, inplace=True)\n",
    "    #conver string to numeric values\n",
    "    df[f\"{new_name}\"] = pd.to_numeric(df[f\"{new_name}\"], errors=\"coerce\")"
   ],
   "metadata": {
    "collapsed": false
   }
  },
  {
   "cell_type": "code",
   "execution_count": 115,
   "outputs": [
    {
     "name": "stdout",
     "output_type": "stream",
     "text": [
      "<class 'pandas.core.frame.DataFrame'>\n",
      "RangeIndex: 3288 entries, 0 to 3287\n",
      "Data columns (total 7 columns):\n",
      " #   Column  Non-Null Count  Dtype         \n",
      "---  ------  --------------  -----         \n",
      " 0   date    3288 non-null   datetime64[ns]\n",
      " 1   pm25    3278 non-null   float64       \n",
      " 2   pm10    3279 non-null   float64       \n",
      " 3   o3      3243 non-null   float64       \n",
      " 4   no2     3246 non-null   float64       \n",
      " 5   so2     2762 non-null   float64       \n",
      " 6   co      3149 non-null   float64       \n",
      "dtypes: datetime64[ns](1), float64(6)\n",
      "memory usage: 179.9 KB\n",
      "None\n"
     ]
    }
   ],
   "source": [
    "#check if dtypes are correct now\n",
    "print(df.info())"
   ],
   "metadata": {
    "collapsed": false
   }
  },
  {
   "cell_type": "code",
   "execution_count": 116,
   "outputs": [
    {
     "data": {
      "text/plain": "              pm25         pm10           o3          no2          so2  \\\ncount  3278.000000  3279.000000  3243.000000  3246.000000  2762.000000   \nmean     59.790726    24.659652    24.666050    34.465496     3.677408   \nstd      21.620866     9.919508     9.541935    14.698088     2.483671   \nmin      13.000000     5.000000     1.000000     3.000000     1.000000   \n25%      46.000000    18.000000    19.000000    23.000000     2.000000   \n50%      57.000000    23.000000    25.000000    34.000000     3.000000   \n75%      69.000000    29.000000    30.000000    45.000000     5.000000   \nmax     177.000000    89.000000    91.000000    92.000000    27.000000   \n\n                co  \ncount  3149.000000  \nmean      4.822483  \nstd       2.663329  \nmin       1.000000  \n25%       3.000000  \n50%       4.000000  \n75%       6.000000  \nmax      19.000000  ",
      "text/html": "<div>\n<style scoped>\n    .dataframe tbody tr th:only-of-type {\n        vertical-align: middle;\n    }\n\n    .dataframe tbody tr th {\n        vertical-align: top;\n    }\n\n    .dataframe thead th {\n        text-align: right;\n    }\n</style>\n<table border=\"1\" class=\"dataframe\">\n  <thead>\n    <tr style=\"text-align: right;\">\n      <th></th>\n      <th>pm25</th>\n      <th>pm10</th>\n      <th>o3</th>\n      <th>no2</th>\n      <th>so2</th>\n      <th>co</th>\n    </tr>\n  </thead>\n  <tbody>\n    <tr>\n      <th>count</th>\n      <td>3278.000000</td>\n      <td>3279.000000</td>\n      <td>3243.000000</td>\n      <td>3246.000000</td>\n      <td>2762.000000</td>\n      <td>3149.000000</td>\n    </tr>\n    <tr>\n      <th>mean</th>\n      <td>59.790726</td>\n      <td>24.659652</td>\n      <td>24.666050</td>\n      <td>34.465496</td>\n      <td>3.677408</td>\n      <td>4.822483</td>\n    </tr>\n    <tr>\n      <th>std</th>\n      <td>21.620866</td>\n      <td>9.919508</td>\n      <td>9.541935</td>\n      <td>14.698088</td>\n      <td>2.483671</td>\n      <td>2.663329</td>\n    </tr>\n    <tr>\n      <th>min</th>\n      <td>13.000000</td>\n      <td>5.000000</td>\n      <td>1.000000</td>\n      <td>3.000000</td>\n      <td>1.000000</td>\n      <td>1.000000</td>\n    </tr>\n    <tr>\n      <th>25%</th>\n      <td>46.000000</td>\n      <td>18.000000</td>\n      <td>19.000000</td>\n      <td>23.000000</td>\n      <td>2.000000</td>\n      <td>3.000000</td>\n    </tr>\n    <tr>\n      <th>50%</th>\n      <td>57.000000</td>\n      <td>23.000000</td>\n      <td>25.000000</td>\n      <td>34.000000</td>\n      <td>3.000000</td>\n      <td>4.000000</td>\n    </tr>\n    <tr>\n      <th>75%</th>\n      <td>69.000000</td>\n      <td>29.000000</td>\n      <td>30.000000</td>\n      <td>45.000000</td>\n      <td>5.000000</td>\n      <td>6.000000</td>\n    </tr>\n    <tr>\n      <th>max</th>\n      <td>177.000000</td>\n      <td>89.000000</td>\n      <td>91.000000</td>\n      <td>92.000000</td>\n      <td>27.000000</td>\n      <td>19.000000</td>\n    </tr>\n  </tbody>\n</table>\n</div>"
     },
     "execution_count": 116,
     "metadata": {},
     "output_type": "execute_result"
    }
   ],
   "source": [
    "df.describe()"
   ],
   "metadata": {
    "collapsed": false
   }
  },
  {
   "cell_type": "markdown",
   "source": [
    "### Final Sanaty Check - Sorting, Null-Values, Duplicates"
   ],
   "metadata": {
    "collapsed": false
   }
  },
  {
   "cell_type": "code",
   "execution_count": 117,
   "outputs": [],
   "source": [
    "#be sure the df is sorted by date\n",
    "df.sort_values(by=[\"date\"])\n",
    "#be sure there are no days missing\n",
    "assert df[\"date\"].isnull().sum() == 0"
   ],
   "metadata": {
    "collapsed": false
   }
  },
  {
   "cell_type": "code",
   "execution_count": 119,
   "outputs": [
    {
     "name": "stdout",
     "output_type": "stream",
     "text": [
      "(3288, 7)\n",
      "(3288, 7)\n"
     ]
    }
   ],
   "source": [
    "#delete duplicate rows\n",
    "print(df.shape)\n",
    "df.drop_duplicates()\n",
    "print(df.shape)\n",
    "#no duplicates if the output shape is the same"
   ],
   "metadata": {
    "collapsed": false
   }
  },
  {
   "cell_type": "markdown",
   "source": [
    "## Data exploration"
   ],
   "metadata": {
    "collapsed": false
   }
  },
  {
   "cell_type": "markdown",
   "source": [
    "We are now ready to explore each column and see patterns, distributions, errors, and quirks in the data."
   ],
   "metadata": {
    "collapsed": false
   }
  },
  {
   "cell_type": "markdown",
   "source": [
    "### Check for non-unique entries count"
   ],
   "metadata": {
    "collapsed": false
   }
  },
  {
   "cell_type": "code",
   "execution_count": 97,
   "outputs": [
    {
     "name": "stdout",
     "output_type": "stream",
     "text": [
      "co       18\n",
      "so2      21\n",
      "pm10     67\n",
      "o3       75\n",
      "no2      81\n",
      "pm25    139\n",
      "dtype: int64\n"
     ]
    },
    {
     "data": {
      "text/plain": "<Figure size 2000x700 with 1 Axes>",
      "image/png": "[encoded data removed]"
     },
     "metadata": {},
     "output_type": "display_data"
    }
   ],
   "source": [
    "# how many non-unique entries does each column have?\n",
    "unique_values = df.select_dtypes(include='float64').nunique().sort_values()\n",
    "print(unique_values)\n",
    "unique_values.plot(kind=\"bar\",logy=True,figsize=(20,7))\n",
    "plt.show()"
   ],
   "metadata": {
    "collapsed": false
   }
  },
  {
   "cell_type": "markdown",
   "source": [
    "We can see that there are 2 variables (co and so2) with much less non-unique variables than the others. This means that probably the measure of these 2 variables is:\n",
    "    1. Done with low resolution sensors;\n",
    "    2. Hard;\n",
    "    3. Disregarded/ Not important to health factors;"
   ],
   "metadata": {
    "collapsed": false
   }
  },
  {
   "cell_type": "code",
   "execution_count": 121,
   "outputs": [
    {
     "name": "stdout",
     "output_type": "stream",
     "text": [
      "test\n"
     ]
    }
   ],
   "source": [
    "print(\"test\")"
   ],
   "metadata": {
    "collapsed": false
   }
  },
  {
   "cell_type": "code",
   "execution_count": null,
   "outputs": [],
   "source": [],
   "metadata": {
    "collapsed": false
   }
  }
 ],
 "metadata": {
  "kernelspec": {
   "display_name": "Python 3",
   "language": "python",
   "name": "python3"
  },
  "language_info": {
   "codemirror_mode": {
    "name": "ipython",
    "version": 2
   },
   "file_extension": ".py",
   "mimetype": "text/x-python",
   "name": "python",
   "nbconvert_exporter": "python",
   "pygments_lexer": "ipython2",
   "version": "2.7.6"
  }
 },
 "nbformat": 4,
 "nbformat_minor": 0
}
